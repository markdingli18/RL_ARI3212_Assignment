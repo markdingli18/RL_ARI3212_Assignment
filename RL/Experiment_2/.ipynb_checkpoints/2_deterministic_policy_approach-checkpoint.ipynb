{
 "cells": [
  {
   "cell_type": "markdown",
   "id": "a3fc1f68",
   "metadata": {},
   "source": [
    "# DDPG"
   ]
  },
  {
   "cell_type": "markdown",
   "id": "ecc445ac",
   "metadata": {},
   "source": [
    "### Import Libraries and "
   ]
  },
  {
   "cell_type": "code",
   "execution_count": 1,
   "id": "0e9df5e3",
   "metadata": {},
   "outputs": [],
   "source": [
    "import gymnasium as gym\n",
    "import numpy as np\n",
    "import torch\n",
    "import torch.nn as nn\n",
    "import torch.nn.functional as F\n",
    "from torch import optim\n",
    "import matplotlib.pyplot as plt\n",
    "from typing import Sequence\n",
    "from collections import namedtuple, deque\n",
    "import itertools\n",
    "import random\n",
    "import copy\n",
    "from itertools import count\n",
    "import warnings\n",
    "warnings.filterwarnings(\"ignore\")"
   ]
  },
  {
   "cell_type": "markdown",
   "id": "a28c5e4c",
   "metadata": {},
   "source": [
    "### Set Up Environment"
   ]
  },
  {
   "cell_type": "code",
   "execution_count": 2,
   "id": "faa45d42",
   "metadata": {},
   "outputs": [],
   "source": [
    "env = gym.make(\"LunarLanderContinuous-v2\")\n",
    "obs, _ = env.reset()\n",
    "episode_reward = 0.0"
   ]
  },
  {
   "cell_type": "markdown",
   "id": "44ccd741",
   "metadata": {},
   "source": [
    "### Set Hyperparameters"
   ]
  },
  {
   "cell_type": "code",
   "execution_count": 3,
   "id": "80719618",
   "metadata": {},
   "outputs": [],
   "source": [
    "GAMMA = 0.99\n",
    "BATCH_SIZE = 64\n",
    "BUFFER_SIZE = 10000\n",
    "MIN_REPLAY_SIZE = 5000\n",
    "TAU = 0.01\n",
    "\n",
    "T = lambda x: torch.as_tensor(x, dtype=torch.float32)\n",
    "Ti = lambda x: torch.as_tensor(x, dtype=torch.int64)\n",
    "Transition = namedtuple('Transition', ('states', 'actions', 'rewards', 'dones', 'next_states'))"
   ]
  },
  {
   "cell_type": "markdown",
   "id": "9644232f",
   "metadata": {},
   "source": [
    "### Define Ornstein-Uhlenbeck Noise for Exploration"
   ]
  },
  {
   "cell_type": "code",
   "execution_count": 4,
   "id": "96747bca",
   "metadata": {},
   "outputs": [],
   "source": [
    "class ActionNoise(object):\n",
    "    def reset(self):\n",
    "        pass\n",
    "\n",
    "class OrnsteinUhlenbeckActionNoise(ActionNoise):\n",
    "    def __init__(self, mu, sigma, theta=.15, dt=1e-2, x0=None):\n",
    "        self.theta = theta\n",
    "        self.mu = mu\n",
    "        self.sigma = sigma\n",
    "        self.dt = dt\n",
    "        self.x0 = x0\n",
    "        self.reset()\n",
    "\n",
    "    def __call__(self):\n",
    "        x = self.x_prev + self.theta * (self.mu - self.x_prev) * self.dt + self.sigma * np.sqrt(self.dt) * np.random.normal(size=self.mu.shape)\n",
    "        self.x_prev = x\n",
    "        return x\n",
    "\n",
    "    def reset(self):\n",
    "        self.x_prev = self.x0 if self.x0 is not None else np.zeros_like(self.mu)\n",
    "\n",
    "    def __repr__(self):\n",
    "        return 'OrnsteinUhlenbeckActionNoise(mu={}, sigma={})'.format(self.mu, self.sigma)\n",
    "\n",
    "std_dev = 0.2\n",
    "ou_noise = OrnsteinUhlenbeckActionNoise(mu=np.zeros(1), sigma=float(std_dev) * np.ones(1))"
   ]
  },
  {
   "cell_type": "markdown",
   "id": "28c0412a",
   "metadata": {},
   "source": [
    "### Define Replay Memory"
   ]
  },
  {
   "cell_type": "code",
   "execution_count": 5,
   "id": "be23fac5",
   "metadata": {},
   "outputs": [],
   "source": [
    "class Replay_memory():\n",
    "    def __init__(self, env, fullsize, minsize, batchsize):\n",
    "        self.env = env\n",
    "        self.memory = deque(maxlen=fullsize)\n",
    "        self.rewards = deque(maxlen=50)\n",
    "        self.batchsize = batchsize\n",
    "        self.minsize = minsize\n",
    "\n",
    "    def append(self, transition):\n",
    "        self.memory.append(transition)\n",
    "\n",
    "    def sample_batch(self):\n",
    "        batch = random.sample(self.memory, self.batchsize)\n",
    "        batch = Transition(*zip(*batch))\n",
    "        states = torch.from_numpy(np.array(batch.states, dtype=np.float32))\n",
    "        actions = torch.from_numpy(np.array(batch.actions, dtype=np.float32))\n",
    "        rewards = torch.from_numpy(np.array(batch.rewards, dtype=np.float32)).unsqueeze(1)\n",
    "        dones = torch.from_numpy(np.array(batch.dones, dtype=np.bool8)).unsqueeze(1)\n",
    "        next_states = torch.from_numpy(np.array(batch.next_states, dtype=np.float32))\n",
    "        return states, actions, rewards, dones, next_states\n",
    "\n",
    "    def initialize(self):\n",
    "        obs, _ = env.reset()\n",
    "        for _ in range(self.minsize):\n",
    "            action = self.env.action_space.sample()\n",
    "            new_obs, reward, terminated, truncated, info = env.step(action)\n",
    "            done = terminated or truncated\n",
    "            transition = Transition(obs, action, reward, done, new_obs)\n",
    "            self.append(transition)\n",
    "            obs = new_obs\n",
    "            if done:\n",
    "                self.env.reset()\n",
    "        return self\n",
    "\n",
    "replay_memory = Replay_memory(env, BUFFER_SIZE, MIN_REPLAY_SIZE, BATCH_SIZE).initialize()"
   ]
  },
  {
   "cell_type": "markdown",
   "id": "f0a69365",
   "metadata": {},
   "source": [
    "### Define Actor (Policy) and Critic Networks"
   ]
  },
  {
   "cell_type": "code",
   "execution_count": 6,
   "id": "d17445f7",
   "metadata": {},
   "outputs": [],
   "source": [
    "class PolicyNet(nn.Module):\n",
    "    def __init__(self, input_size, hidden_units, output_size, pmin, pmax):\n",
    "        super(PolicyNet, self).__init__()\n",
    "        self.pmin = pmin\n",
    "        self.pmax = pmax\n",
    "        self.model = nn.Sequential(\n",
    "            nn.Linear(input_size, hidden_units),\n",
    "            nn.ReLU(),\n",
    "            nn.Linear(hidden_units, int(hidden_units/2)),\n",
    "            nn.ReLU(),\n",
    "            nn.Linear(int(hidden_units/2), output_size),\n",
    "            nn.Tanh()\n",
    "        )\n",
    "\n",
    "    def forward(self, x):\n",
    "        x = self.model(x) * self.pmax\n",
    "        torch.clip_(x, self.pmin, self.pmax)\n",
    "        return x\n",
    "\n",
    "class DQN(nn.Module):\n",
    "    def __init__(self, input_size, hidden_units):\n",
    "        super(DQN, self).__init__()\n",
    "        self.model = nn.Sequential(\n",
    "            nn.Linear(input_size, hidden_units),\n",
    "            nn.ReLU(),\n",
    "            nn.Linear(hidden_units, int(hidden_units/2)),\n",
    "            nn.ReLU(),\n",
    "            nn.Linear(int(hidden_units/2), 1)\n",
    "        )\n",
    "\n",
    "    def forward(self, state, action):\n",
    "        x = torch.cat([state, action], 1)\n",
    "        x = self.model(x)\n",
    "        return x"
   ]
  },
  {
   "cell_type": "markdown",
   "id": "fb43f151",
   "metadata": {},
   "source": [
    "### Initialize Networks and Optimizers"
   ]
  },
  {
   "cell_type": "code",
   "execution_count": 7,
   "id": "092857a9",
   "metadata": {},
   "outputs": [],
   "source": [
    "obs_size = env.observation_space.shape[0]\n",
    "act_size = env.action_space.shape[0]\n",
    "hiddenlayers = 128\n",
    "output_minrange = env.action_space.low\n",
    "output_maxrange = env.action_space.high\n",
    "\n",
    "actor = PolicyNet(obs_size, hiddenlayers, act_size, T(output_minrange), T(output_maxrange))\n",
    "actor_target = copy.deepcopy(actor)\n",
    "critic = DQN(obs_size + act_size, hiddenlayers)\n",
    "critic_target = copy.deepcopy(critic)\n",
    "actor_optimizer  = optim.AdamW(actor.parameters(), lr=0.0003)\n",
    "critic_optimizer = optim.AdamW(critic.parameters(), lr=0.0003)"
   ]
  },
  {
   "cell_type": "markdown",
   "id": "5d333f6a",
   "metadata": {},
   "source": [
    "### Update Function"
   ]
  },
  {
   "cell_type": "code",
   "execution_count": 8,
   "id": "63c76ead",
   "metadata": {},
   "outputs": [],
   "source": [
    "def update():\n",
    "    states, actions, rewards, dones, next_states = replay_memory.sample_batch()\n",
    "\n",
    "    ou_noise.reset()\n",
    "    # Critic loss\n",
    "    Qvals = critic(states, actions)\n",
    "    with torch.no_grad():\n",
    "        actions_ = actor_target(next_states)\n",
    "        Qvals_ = critic_target(next_states, actions_)\n",
    "        Qvals_[dones] = 0.0\n",
    "        target = rewards + GAMMA * Qvals_\n",
    "    critic_loss = F.smooth_l1_loss(target, Qvals)\n",
    "\n",
    "    # Actor loss\n",
    "    actor_loss = -critic(states, actor(states)).mean()\n",
    "\n",
    "    # update networks\n",
    "    actor_optimizer.zero_grad()\n",
    "    actor_loss.backward()\n",
    "    actor_optimizer.step()\n",
    "\n",
    "    critic_optimizer.zero_grad()\n",
    "    critic_loss.backward()\n",
    "    critic_optimizer.step()\n",
    "\n",
    "    # update target networks\n",
    "    for target_param, param in zip(actor_target.parameters(), actor.parameters()):\n",
    "        target_param.data.copy_(param.data * TAU + target_param.data * (1.0 - TAU))\n",
    "\n",
    "    for target_param, param in zip(critic_target.parameters(), critic.parameters()):\n",
    "        target_param.data.copy_(param.data * TAU + target_param.data * (1.0 - TAU))"
   ]
  },
  {
   "cell_type": "markdown",
   "id": "874db136",
   "metadata": {},
   "source": [
    "### Training Loop"
   ]
  },
  {
   "cell_type": "code",
   "execution_count": 9,
   "id": "acfc3742",
   "metadata": {},
   "outputs": [
    {
     "name": "stdout",
     "output_type": "stream",
     "text": [
      "Episode: 0  Reward: -357.66488778614877\n",
      "Episode: 1  Reward: -71.42006783983632\n",
      "Episode: 2  Reward: 202.1568202351209\n",
      "Episode: 3  Reward: 186.7389844081893\n",
      "Episode: 4  Reward: -66.83614892866868\n",
      "Episode: 5  Reward: -46.75283261431258\n",
      "Episode: 6  Reward: 172.95323834579463\n",
      "Episode: 7  Reward: 35.9060985271843\n",
      "Episode: 8  Reward: -12.321969522344489\n",
      "Episode: 9  Reward: -18.07804783842876\n",
      "Episode: 10  Reward: -25.047276624331516\n",
      "Episode: 11  Reward: 271.47024301812553\n",
      "Episode: 12  Reward: -32.058994596126624\n",
      "Episode: 13  Reward: 32.72258094404114\n",
      "Episode: 14  Reward: -35.742293228061996\n",
      "Episode: 15  Reward: 0.575671047778215\n",
      "Episode: 16  Reward: -89.91147918339864\n",
      "Episode: 17  Reward: 15.032981104304824\n",
      "Episode: 18  Reward: -14.938012991748437\n",
      "Episode: 19  Reward: -21.464791674060393\n",
      "Episode: 20  Reward: -116.3195502879906\n",
      "Episode: 21  Reward: -26.6834035481821\n",
      "Episode: 22  Reward: -78.91427406940326\n",
      "Episode: 23  Reward: -95.61967253061584\n",
      "Episode: 24  Reward: -40.39363036478037\n",
      "Episode: 25  Reward: -84.6311586789984\n",
      "Episode: 26  Reward: -107.93179682661642\n",
      "Episode: 27  Reward: 8.185277017348085\n",
      "Episode: 28  Reward: 21.599682072298606\n",
      "Episode: 29  Reward: 18.340649570352994\n",
      "Episode: 30  Reward: -23.32398992016752\n",
      "Episode: 31  Reward: -40.962451062256605\n",
      "Episode: 32  Reward: -28.065606509429287\n",
      "Episode: 33  Reward: -22.405398221495233\n",
      "Episode: 34  Reward: -34.714605958401975\n",
      "Episode: 35  Reward: 5.824201059577433\n",
      "Episode: 36  Reward: 4.064583243508324\n",
      "Episode: 37  Reward: -42.03493947000048\n",
      "Episode: 38  Reward: 1.81191790994707\n",
      "Episode: 39  Reward: -16.93053255640035\n",
      "Episode: 40  Reward: 1.4513741584270008\n",
      "Episode: 41  Reward: 18.109520478843322\n",
      "Episode: 42  Reward: -2.769454322706679\n",
      "Episode: 43  Reward: 15.680758292253032\n",
      "Episode: 44  Reward: -1.2926362177708484\n",
      "Episode: 45  Reward: 34.272377743816094\n",
      "Episode: 46  Reward: 137.89577205659458\n",
      "Episode: 47  Reward: -42.43093207134711\n",
      "Episode: 48  Reward: 8.759445151067922\n",
      "Episode: 49  Reward: -4.754370061827444\n",
      "*****************************************************************************************************************************\n",
      "Solved! Episode: 49, Average Score Last 50 Episodes: -8.177260582425685\n",
      "*****************************************************************************************************************************\n"
     ]
    }
   ],
   "source": [
    "returns = deque(maxlen=50)\n",
    "average_rewards = []  # List to store average rewards per episode\n",
    "solved_reward = 195\n",
    "\n",
    "for episode in count():\n",
    "    state, _ = env.reset()\n",
    "    episode_reward = 0\n",
    "    done = False\n",
    "    while not done:\n",
    "        with torch.no_grad():\n",
    "            action = actor(T(state)).numpy() + ou_noise()\n",
    "        new_state, reward, terminated, truncated, _ = env.step(action)\n",
    "        done = terminated or truncated\n",
    "        transition = Transition(state, action, reward, done, new_state)\n",
    "        replay_memory.append(transition)\n",
    "        update()\n",
    "        state = new_state\n",
    "        episode_reward += reward\n",
    "\n",
    "    returns.append(episode_reward)\n",
    "    average_rewards.append(episode_reward)\n",
    "    \n",
    "    # Print reward every episode\n",
    "    print(f'Episode: {episode}  Reward: {episode_reward}')\n",
    "\n",
    "    # Check if the problem is solved\n",
    "    if len(returns) >= 50:\n",
    "        avg_reward = np.mean(list(returns))\n",
    "        if avg_reward >= solved_reward:\n",
    "            print(\"*\" * 125)\n",
    "            print(f'Solved! Episode: {episode}, Average Score Last 50 Episodes: {avg_reward}')\n",
    "            print(\"*\" * 125)\n",
    "            # Optionally, save the model or perform other actions here\n",
    "            break\n",
    "\n",
    "# Optional: Save the average_rewards for analysis\n",
    "# np.save('<path_to_save>/average_rewards.npy', np.array(average_rewards))\n",
    "\n",
    "# Close the environment\n",
    "env.close()"
   ]
  },
  {
   "cell_type": "markdown",
   "id": "f24968cd",
   "metadata": {},
   "source": [
    "### Visualisation"
   ]
  },
  {
   "cell_type": "code",
   "execution_count": 10,
   "id": "b7be5615",
   "metadata": {},
   "outputs": [
    {
     "data": {
      "image/png": "[encoded data removed]",
      "text/plain": [
       "<Figure size 1200x600 with 1 Axes>"
      ]
     },
     "metadata": {},
     "output_type": "display_data"
    }
   ],
   "source": [
    "# Creating the plot for DDPG\n",
    "\n",
    "# Assuming average_rewards contains the average reward for each episode\n",
    "episode_numbers = list(range(1, len(average_rewards) + 1))\n",
    "\n",
    "plt.figure(figsize=(12, 6))\n",
    "\n",
    "# Plot average rewards per episode\n",
    "plt.plot(episode_numbers, average_rewards, label='Average Reward DDPG', color='red')\n",
    "\n",
    "# Add a horizontal line representing the solved threshold\n",
    "solved_score = 195\n",
    "plt.axhline(y=solved_score, color='green', linestyle='--', label='Solved Threshold (195)')\n",
    "\n",
    "# Set labels for x and y axes\n",
    "plt.xlabel('Episodes')\n",
    "plt.ylabel('Average Reward')\n",
    "\n",
    "# Display the plot\n",
    "plt.title('Average Reward per Episode in LunarLanderContinuous-v2 (DDPG)')\n",
    "plt.legend()\n",
    "plt.show()"
   ]
  }
 ],
 "metadata": {
  "kernelspec": {
   "display_name": "Python 3 (ipykernel)",
   "language": "python",
   "name": "python3"
  },
  "language_info": {
   "codemirror_mode": {
    "name": "ipython",
    "version": 3
   },
   "file_extension": ".py",
   "mimetype": "text/x-python",
   "name": "python",
   "nbconvert_exporter": "python",
   "pygments_lexer": "ipython3",
   "version": "3.9.13"
  }
 },
 "nbformat": 4,
 "nbformat_minor": 5
}
