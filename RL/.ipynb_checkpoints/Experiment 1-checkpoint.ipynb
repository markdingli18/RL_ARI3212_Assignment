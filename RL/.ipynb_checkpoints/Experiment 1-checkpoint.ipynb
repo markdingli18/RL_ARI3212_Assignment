{
 "cells": [
  {
   "cell_type": "markdown",
   "id": "12656068",
   "metadata": {},
   "source": [
    "# Deep Q-Network (DQN) for LunarLander-v2\n",
    "\n",
    "This notebook is an implementation of a Deep Q-Network to tackle the \"LunarLander-v2\" environment in OpenAI Gym. The DQN will learn to land a spacecraft safely on the lunar surface. The goal is to achieve an average score of 195 or above over the last 50 episodes."
   ]
  },
  {
   "cell_type": "markdown",
   "id": "b1e4457d",
   "metadata": {},
   "source": [
    "### Import Libraries"
   ]
  },
  {
   "cell_type": "code",
   "execution_count": 1,
   "id": "f22f7730",
   "metadata": {},
   "outputs": [],
   "source": [
    "import gym\n",
    "import torch\n",
    "import torch.nn as nn\n",
    "import torch.nn.functional as F\n",
    "import torch.optim as optim\n",
    "import numpy as np\n",
    "import random\n",
    "from collections import namedtuple, deque\n",
    "import matplotlib.pyplot as plt\n",
    "import os\n",
    "import renderlab\n",
    "import itertools"
   ]
  },
  {
   "cell_type": "markdown",
   "id": "b5f750d2",
   "metadata": {},
   "source": [
    "### Define the Hyperparameters\n",
    "\n",
    "Setting up hyperparameters like learning rate, batch size, exploration rates, and defining the file path for saving the trained DQN model."
   ]
  },
  {
   "cell_type": "code",
   "execution_count": 2,
   "id": "f73cf495",
   "metadata": {},
   "outputs": [],
   "source": [
    "# Define the Parameters\n",
    "GAMMA = 0.99\n",
    "BATCH_SIZE = 128\n",
    "BUFFER_SIZE = 10000\n",
    "EPS_START = 1.0\n",
    "EPS_END = 0.01\n",
    "EPS_DECAY = 0.995\n",
    "LEARNING_RATE = 0.0005\n",
    "solved_score = 195 \n",
    "model_save_path = 'dqn_lunarlander_model.pth'"
   ]
  },
  {
   "cell_type": "markdown",
   "id": "bc4c4e20",
   "metadata": {},
   "source": [
    "### Standard DQN Model\n",
    "\n",
    "Below is the neural network that will approximate the Q-value function. The network will take the state as input and output Q-values for each action."
   ]
  },
  {
   "cell_type": "code",
   "execution_count": 3,
   "id": "22e7a63b",
   "metadata": {},
   "outputs": [],
   "source": [
    "class DQN(nn.Module):\n",
    "    def __init__(self, state_size, action_size):\n",
    "        super(DQN, self).__init__()\n",
    "        self.fc1 = nn.Linear(state_size, 64)\n",
    "        self.fc2 = nn.Linear(64, 64)\n",
    "        self.fc3 = nn.Linear(64, action_size)\n",
    "\n",
    "    def forward(self, x):\n",
    "        x = F.relu(self.fc1(x))\n",
    "        x = F.relu(self.fc2(x))\n",
    "        return self.fc3(x)"
   ]
  },
  {
   "cell_type": "markdown",
   "id": "3fd6706e",
   "metadata": {},
   "source": [
    "### Replay Memory\n",
    "\n",
    "Using a replay memory to store transitions that the agent observes, allowing to reuse this data later. This helps in breaking the correlation between consecutive learning samples."
   ]
  },
  {
   "cell_type": "code",
   "execution_count": 4,
   "id": "1ed327e5",
   "metadata": {},
   "outputs": [],
   "source": [
    "Transition = namedtuple('Transition', ('state', 'action', 'next_state', 'reward', 'done'))\n",
    "\n",
    "class ReplayMemory:\n",
    "    def __init__(self, capacity):\n",
    "        self.memory = deque([], maxlen=capacity)\n",
    "\n",
    "    def push(self, *args):\n",
    "        self.memory.append(Transition(*args))\n",
    "\n",
    "    def sample(self, batch_size):\n",
    "        return random.sample(self.memory, batch_size)\n",
    "\n",
    "    def __len__(self):\n",
    "        return len(self.memory)"
   ]
  },
  {
   "cell_type": "markdown",
   "id": "3a5491ab",
   "metadata": {},
   "source": [
    "### DQN Agent Class\n",
    "\n",
    "Encapsulating the learning mechanisms of the DQN agent, including action selection, model optimization, and interaction with the replay memory, along with managing the exploration rate decay."
   ]
  },
  {
   "cell_type": "code",
   "execution_count": 5,
   "id": "3c42b8c4",
   "metadata": {},
   "outputs": [],
   "source": [
    "class DQNAgent:\n",
    "    def __init__(self, state_size, action_size):\n",
    "        self.state_size = state_size\n",
    "        self.action_size = action_size\n",
    "        self.epsilon = EPS_START\n",
    "\n",
    "        self.policy_net = DQN(state_size, action_size)\n",
    "        self.target_net = DQN(state_size, action_size)\n",
    "        self.target_net.load_state_dict(self.policy_net.state_dict())\n",
    "        self.target_net.eval()\n",
    "\n",
    "        self.optimizer = optim.Adam(self.policy_net.parameters(), lr=LEARNING_RATE)\n",
    "        self.memory = ReplayMemory(BUFFER_SIZE)\n",
    "\n",
    "    def select_action(self, state):\n",
    "        sample = random.random()\n",
    "        eps_threshold = self.epsilon\n",
    "        if sample > eps_threshold:\n",
    "            with torch.no_grad():\n",
    "                return self.policy_net(state).max(1)[1].view(1, 1)\n",
    "        else:\n",
    "            return torch.tensor([[random.randrange(self.action_size)]], dtype=torch.long)\n",
    "\n",
    "    def optimize_model(self):\n",
    "        if len(self.memory) < BATCH_SIZE:\n",
    "            return\n",
    "\n",
    "        transitions = self.memory.sample(BATCH_SIZE)\n",
    "        batch = Transition(*zip(*transitions))\n",
    "\n",
    "        non_final_mask = torch.tensor(tuple(map(lambda s: s is not None, batch.next_state)), dtype=torch.bool)\n",
    "        non_final_next_states = torch.cat([s for s in batch.next_state if s is not None])\n",
    "        state_batch = torch.cat(batch.state)\n",
    "        action_batch = torch.cat(batch.action)\n",
    "        reward_batch = torch.cat(batch.reward)\n",
    "        done_batch = torch.tensor(batch.done, dtype=torch.float32)\n",
    "\n",
    "        state_action_values = self.policy_net(state_batch).gather(1, action_batch)\n",
    "        next_state_values = torch.zeros(BATCH_SIZE)\n",
    "        next_state_values[non_final_mask] = self.target_net(non_final_next_states).max(1)[0].detach()\n",
    "        expected_state_action_values = (next_state_values * GAMMA) * (1 - done_batch) + reward_batch\n",
    "\n",
    "        loss = F.mse_loss(state_action_values, expected_state_action_values.unsqueeze(1))\n",
    "        self.optimizer.zero_grad()\n",
    "        loss.backward()\n",
    "        self.optimizer.step()\n",
    "\n",
    "    def update_target_net(self):\n",
    "        self.target_net.load_state_dict(self.policy_net.state_dict())\n",
    "\n",
    "    def decay_epsilon(self):\n",
    "        self.epsilon = max(EPS_END, EPS_DECAY * self.epsilon)"
   ]
  },
  {
   "cell_type": "markdown",
   "id": "fabd4b58",
   "metadata": {},
   "source": [
    "### Training Loop\n",
    "\n",
    "Runs the LunarLander-v2 environment for a set number of episodes, gathering experiences and optimizing the agent's policy network based on these experiences."
   ]
  },
  {
   "cell_type": "code",
   "execution_count": 6,
   "id": "90422696",
   "metadata": {
    "scrolled": true
   },
   "outputs": [
    {
     "name": "stdout",
     "output_type": "stream",
     "text": [
      "Episode 0, Average Score: -116.62418785448958\n",
      "Episode 5, Average Score: -132.39949189223583\n",
      "Episode 10, Average Score: -171.54100726080893\n",
      "Episode 15, Average Score: -185.7537530436623\n",
      "Episode 20, Average Score: -172.79702446701168\n",
      "Episode 25, Average Score: -170.00303359590356\n",
      "Episode 30, Average Score: -163.7661281557493\n",
      "Episode 35, Average Score: -159.37079333212907\n",
      "Episode 40, Average Score: -154.86361208586035\n",
      "Episode 45, Average Score: -155.79016332568537\n",
      "Episode 50, Average Score: -148.91736893725695\n",
      "Episode 55, Average Score: -142.4927132519197\n",
      "Episode 60, Average Score: -123.80164491657123\n",
      "Episode 65, Average Score: -110.85345602613508\n",
      "Episode 70, Average Score: -104.42840551126841\n",
      "Episode 75, Average Score: -99.1163268235124\n",
      "Episode 80, Average Score: -96.35960565777954\n",
      "Episode 85, Average Score: -91.8079437535802\n",
      "Episode 90, Average Score: -87.74685226276861\n",
      "Episode 95, Average Score: -78.12176948609235\n",
      "Episode 100, Average Score: -78.05239520435663\n",
      "Episode 105, Average Score: -76.68051582048771\n",
      "Episode 110, Average Score: -78.68782660509189\n",
      "Episode 115, Average Score: -72.91122424578467\n",
      "Episode 120, Average Score: -69.89218331642755\n",
      "Episode 125, Average Score: -72.77171523914122\n",
      "Episode 130, Average Score: -69.08405935643513\n",
      "Episode 135, Average Score: -68.27348594803868\n",
      "Episode 140, Average Score: -69.91011258758921\n",
      "Episode 145, Average Score: -70.98283242417848\n",
      "Episode 150, Average Score: -66.87402800210845\n",
      "Episode 155, Average Score: -70.51258849754753\n",
      "Episode 160, Average Score: -73.31463521190213\n",
      "Episode 165, Average Score: -76.48801212897469\n",
      "Episode 170, Average Score: -76.24467568668206\n",
      "Episode 175, Average Score: -71.21645310542429\n",
      "Episode 180, Average Score: -70.94178586331213\n",
      "Episode 185, Average Score: -64.84741027909108\n",
      "Episode 190, Average Score: -55.44265005693186\n",
      "Episode 195, Average Score: -48.55503801335565\n",
      "Episode 200, Average Score: -42.68480959287167\n",
      "Episode 205, Average Score: -38.72976401096946\n",
      "Episode 210, Average Score: -39.079982694936696\n",
      "Episode 215, Average Score: -29.816929510061772\n",
      "Episode 220, Average Score: -14.243314757944715\n",
      "Episode 225, Average Score: -1.2052257031122482\n",
      "Episode 230, Average Score: -0.28148973540969335\n",
      "Episode 235, Average Score: 1.7305361113602526\n",
      "Episode 240, Average Score: -4.770997701905518\n",
      "Episode 245, Average Score: -2.6166205634968764\n",
      "Episode 250, Average Score: -5.248984492393614\n",
      "Episode 255, Average Score: 7.1019188950112815\n",
      "Episode 260, Average Score: 13.001185919509341\n",
      "Episode 265, Average Score: 24.781117974567827\n",
      "Episode 270, Average Score: 22.446710330877412\n",
      "Episode 275, Average Score: 31.426816620812925\n",
      "Episode 280, Average Score: 46.450521975783715\n",
      "Episode 285, Average Score: 43.568100280477566\n",
      "Episode 290, Average Score: 67.78279974289399\n",
      "Episode 295, Average Score: 86.64097346066222\n",
      "Episode 300, Average Score: 100.24185650128825\n",
      "Episode 305, Average Score: 113.57646586682542\n",
      "Episode 310, Average Score: 123.75521342247087\n",
      "Episode 315, Average Score: 122.22227526807427\n",
      "Episode 320, Average Score: 137.56536614049196\n",
      "Episode 325, Average Score: 137.46209804631954\n",
      "Episode 330, Average Score: 118.10127400854233\n",
      "Episode 335, Average Score: 132.72142752553168\n",
      "Episode 340, Average Score: 126.4527306418372\n",
      "Episode 345, Average Score: 120.68595767611336\n",
      "Episode 350, Average Score: 126.18879631447602\n",
      "Episode 355, Average Score: 126.60188190102782\n",
      "Episode 360, Average Score: 108.31677892761401\n",
      "Episode 365, Average Score: 114.91500098624569\n",
      "Episode 370, Average Score: 105.45097593566624\n",
      "Episode 375, Average Score: 109.32990019612747\n",
      "Episode 380, Average Score: 138.11488771098308\n",
      "Episode 385, Average Score: 147.11708074911266\n",
      "Episode 390, Average Score: 155.99122770225134\n",
      "Episode 395, Average Score: 165.0306387747466\n",
      "Episode 400, Average Score: 168.99664837180387\n",
      "Episode 405, Average Score: 164.00724508401345\n",
      "Episode 410, Average Score: 200.5156753097815\n",
      "************************************************************************************************************************\n",
      "Solved at episode: 410 Avg Results: 200.52\n",
      "Model successfully saved to dqn_lunarlander_model.pth\n"
     ]
    }
   ],
   "source": [
    "env = gym.make('LunarLander-v2')\n",
    "state_size = env.observation_space.shape[0]\n",
    "action_size = env.action_space.n\n",
    "agent = DQNAgent(state_size, action_size)\n",
    "\n",
    "scores = []\n",
    "average_scores = []\n",
    "max_steps_per_episode = 2000  # Maximum steps per episode to prevent very long episodes\n",
    "solved_score = 195  # Solved condition threshold\n",
    "\n",
    "# Wrap the episode range with tqdm for the progress bar\n",
    "for i_episode in itertools.count():\n",
    "    state_tuple = env.reset()\n",
    "    state = state_tuple[0] if isinstance(state_tuple, tuple) else state_tuple\n",
    "    state = torch.from_numpy(state).float().unsqueeze(0)\n",
    "    total_reward = 0\n",
    "    done = False\n",
    "    step_count = 0  # Step counter for each episode\n",
    "\n",
    "    while not done and step_count < max_steps_per_episode:\n",
    "        action = agent.select_action(state)\n",
    "        output = env.step(action.item())\n",
    "        next_state = output[0]\n",
    "        reward = output[1]\n",
    "        done = output[2]\n",
    "\n",
    "        next_state = torch.from_numpy(next_state).float().unsqueeze(0)\n",
    "        reward_tensor = torch.tensor([reward], dtype=torch.float)\n",
    "\n",
    "        agent.memory.push(state, action, next_state, reward_tensor, done)\n",
    "        state = next_state\n",
    "        total_reward += reward\n",
    "        agent.optimize_model()\n",
    "\n",
    "        step_count += 1\n",
    "\n",
    "    agent.update_target_net()\n",
    "    agent.decay_epsilon()\n",
    "    scores.append(total_reward)\n",
    "\n",
    "    # Calculate and store the average score every 10 episodes\n",
    "    if i_episode % 5 == 0:\n",
    "        # Keep calculating the average over the last 50 episodes\n",
    "        avg_score = np.mean(scores[-50:])  \n",
    "        average_scores.append(avg_score)\n",
    "        print(f\"Episode {i_episode}, Average Score: {avg_score}\")\n",
    "\n",
    "    # Check if the environment is solved\n",
    "    if len(scores) >= 50 and np.mean(scores[-50:]) >= solved_score:\n",
    "        print(\"*\"*120)\n",
    "        print(f\"Solved at episode: {i_episode} Avg Results: {np.mean(scores[-50:]):.2f}\")\n",
    "        \n",
    "        # Save the policy network model only when the environment is solved\n",
    "        torch.save(agent.policy_net.state_dict(), model_save_path)\n",
    "        print(f\"Model successfully saved to {model_save_path}\")\n",
    "        break\n",
    "\n",
    "env.close()"
   ]
  },
  {
   "cell_type": "markdown",
   "id": "889353a4",
   "metadata": {},
   "source": [
    "### Training Progress Visualization\n",
    "\n",
    "Visualizing the training progress with a plot of the average reward per episode (Y-axis) against the number of episodes (X-axis)."
   ]
  },
  {
   "cell_type": "code",
   "execution_count": 13,
   "id": "f956e6a3",
   "metadata": {},
   "outputs": [
    {
     "data": {
      "image/png": "[encoded data removed]",
      "text/plain": [
       "<Figure size 1200x600 with 1 Axes>"
      ]
     },
     "metadata": {},
     "output_type": "display_data"
    }
   ],
   "source": [
    "# Determine the number of episodes from the length of average_scores\n",
    "num_episodes = len(average_scores)\n",
    "\n",
    "# Generating episode numbers for x-axis\n",
    "episode_numbers = list(range(0, num_episodes * 10, 10))\n",
    "\n",
    "# Plotting the graph\n",
    "plt.figure(figsize=(12, 6))\n",
    "plt.plot(episode_numbers, average_scores, label='Standard DQN', color='blue')\n",
    "plt.axhline(y=solved_score, color='g', linestyle='--', label='Solved Threshold (195)')\n",
    "plt.xlabel('Episodes')\n",
    "plt.ylabel('Average Reward')\n",
    "plt.title('Average Reward per Episode in LunarLander-v2')\n",
    "plt.legend()\n",
    "plt.show()"
   ]
  },
  {
   "cell_type": "code",
   "execution_count": null,
   "id": "7045ca35",
   "metadata": {},
   "outputs": [],
   "source": []
  },
  {
   "cell_type": "code",
   "execution_count": 15,
   "id": "e7cecc58",
   "metadata": {},
   "outputs": [
    {
     "name": "stdout",
     "output_type": "stream",
     "text": [
      "Moviepy - Building video temp-{start}.mp4.\n",
      "Moviepy - Writing video temp-{start}.mp4\n",
      "\n"
     ]
    },
    {
     "name": "stderr",
     "output_type": "stream",
     "text": [
      "                                                             \r"
     ]
    },
    {
     "name": "stdout",
     "output_type": "stream",
     "text": [
      "Moviepy - Done !\n",
      "Moviepy - video ready temp-{start}.mp4\n"
     ]
    },
    {
     "data": {
      "text/html": [
       "<video controls  >\n",
       " <source src=\"data:video/mp4;base64,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\" type=\"video/mp4\">\n",
       " Your browser does not support the video tag.\n",
       " </video>"
      ],
      "text/plain": [
       "<IPython.core.display.Video object>"
      ]
     },
     "metadata": {},
     "output_type": "display_data"
    }
   ],
   "source": [
    "# Initialize the environment\n",
    "env = gym.make('LunarLander-v2', render_mode='rgb_array')\n",
    "\n",
    "# Wrap the environment with RenderFrame from renderlab to record video\n",
    "env = renderlab.RenderFrame(env, \"./video\")\n",
    "\n",
    "# Initialize your DQN agent here (make sure it's trained)\n",
    "state_size = env.observation_space.shape[0]\n",
    "action_size = env.action_space.n\n",
    "agent = DQNAgent(state_size, action_size)\n",
    "agent.policy_net.load_state_dict(torch.load(model_save_path))\n",
    "\n",
    "# Reset the environment and get the initial observation\n",
    "obs, info = env.reset()\n",
    "\n",
    "while True:\n",
    "    # Convert the observation to a tensor and pass it to the agent to select an action\n",
    "    obs_tensor = torch.from_numpy(obs).float().unsqueeze(0)\n",
    "    action = agent.select_action(obs_tensor).item()\n",
    "\n",
    "    # Take the action in the environment\n",
    "    obs, reward, terminated, truncated, info = env.step(action)\n",
    "\n",
    "    # Check if the episode is done\n",
    "    if terminated or truncated:\n",
    "        break\n",
    "\n",
    "# Play the recorded video\n",
    "env.play()"
   ]
  }
 ],
 "metadata": {
  "kernelspec": {
   "display_name": "Python 3 (ipykernel)",
   "language": "python",
   "name": "python3"
  },
  "language_info": {
   "codemirror_mode": {
    "name": "ipython",
    "version": 3
   },
   "file_extension": ".py",
   "mimetype": "text/x-python",
   "name": "python",
   "nbconvert_exporter": "python",
   "pygments_lexer": "ipython3",
   "version": "3.9.13"
  }
 },
 "nbformat": 4,
 "nbformat_minor": 5
}
