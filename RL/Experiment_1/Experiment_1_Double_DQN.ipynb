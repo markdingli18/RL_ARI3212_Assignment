{
 "cells": [
  {
   "cell_type": "markdown",
   "id": "12656068",
   "metadata": {},
   "source": [
    "# Double Deep Q-Network (DQN) for LunarLander-v2\n",
    "\n",
    "This notebook is an implementation of a Deep Q-Network to tackle the \"LunarLander-v2\" environment in OpenAI Gym. The DQN will learn to land a spacecraft safely on the lunar surface. The goal is to achieve an average score of 195 or above over the last 50 episodes."
   ]
  },
  {
   "cell_type": "markdown",
   "id": "b1e4457d",
   "metadata": {},
   "source": [
    "### Import Libraries"
   ]
  },
  {
   "cell_type": "code",
   "execution_count": 1,
   "id": "f22f7730",
   "metadata": {},
   "outputs": [],
   "source": [
    "import gym\n",
    "import torch\n",
    "import torch.nn as nn\n",
    "import torch.nn.functional as F\n",
    "import torch.optim as optim\n",
    "import numpy as np\n",
    "import random\n",
    "from collections import namedtuple, deque\n",
    "import matplotlib.pyplot as plt\n",
    "import os\n",
    "import renderlab\n",
    "import itertools"
   ]
  },
  {
   "cell_type": "markdown",
   "id": "b5f750d2",
   "metadata": {},
   "source": [
    "### Define the Hyperparameters\n",
    "\n",
    "Setting up hyperparameters like learning rate, batch size, exploration rates, and defining the file path for saving the trained DQN model."
   ]
  },
  {
   "cell_type": "code",
   "execution_count": 2,
   "id": "f73cf495",
   "metadata": {},
   "outputs": [],
   "source": [
    "# Define the Parameters\n",
    "GAMMA = 0.99\n",
    "BATCH_SIZE = 128\n",
    "BUFFER_SIZE = 10000\n",
    "EPS_START = 1.0\n",
    "EPS_END = 0.01\n",
    "EPS_DECAY = 0.995\n",
    "LEARNING_RATE = 0.0005\n",
    "solved_score = 195 "
   ]
  },
  {
   "cell_type": "code",
   "execution_count": null,
   "id": "66f0c4cb",
   "metadata": {},
   "outputs": [],
   "source": []
  },
  {
   "cell_type": "code",
   "execution_count": 3,
   "id": "746a62b1",
   "metadata": {},
   "outputs": [],
   "source": [
    "model_save_path = 'models/double_dqn_lunarlander_model.pth'\n",
    "\n",
    "# Create the 'models' directory if it doesn't exist\n",
    "model_directory = os.path.dirname(model_save_path)\n",
    "if not os.path.exists(model_directory):\n",
    "    os.makedirs(model_directory)\n",
    "    \n",
    "folder_path = 'average_scores/'\n",
    "\n",
    "# Create the folder if it doesn't exist\n",
    "if not os.path.exists(folder_path):\n",
    "    os.makedirs(folder_path)"
   ]
  },
  {
   "cell_type": "markdown",
   "id": "bc4c4e20",
   "metadata": {},
   "source": [
    "### Double DQN Model\n",
    "\n",
    "Below is the neural network that will approximate the Q-value function. The network will take the state as input and output Q-values for each action."
   ]
  },
  {
   "cell_type": "code",
   "execution_count": 4,
   "id": "22e7a63b",
   "metadata": {},
   "outputs": [],
   "source": [
    "class DQN(nn.Module):\n",
    "    def __init__(self, state_size, action_size):\n",
    "        super(DQN, self).__init__()\n",
    "        self.fc1 = nn.Linear(state_size, 64)\n",
    "        self.fc2 = nn.Linear(64, 64)\n",
    "        self.fc3 = nn.Linear(64, action_size)\n",
    "\n",
    "    def forward(self, x):\n",
    "        x = F.relu(self.fc1(x))\n",
    "        x = F.relu(self.fc2(x))\n",
    "        return self.fc3(x)"
   ]
  },
  {
   "cell_type": "markdown",
   "id": "3fd6706e",
   "metadata": {},
   "source": [
    "### Replay Memory\n",
    "\n",
    "Using a replay memory to store transitions that the agent observes, allowing to reuse this data later. This helps in breaking the correlation between consecutive learning samples."
   ]
  },
  {
   "cell_type": "code",
   "execution_count": 5,
   "id": "1ed327e5",
   "metadata": {},
   "outputs": [],
   "source": [
    "Transition = namedtuple('Transition', ('state', 'action', 'next_state', 'reward', 'done'))\n",
    "\n",
    "class ReplayMemory:\n",
    "    def __init__(self, capacity):\n",
    "        self.memory = deque([], maxlen=capacity)\n",
    "\n",
    "    def push(self, *args):\n",
    "        self.memory.append(Transition(*args))\n",
    "\n",
    "    def sample(self, batch_size):\n",
    "        return random.sample(self.memory, batch_size)\n",
    "\n",
    "    def __len__(self):\n",
    "        return len(self.memory)"
   ]
  },
  {
   "cell_type": "markdown",
   "id": "3a5491ab",
   "metadata": {},
   "source": [
    "### DQN Agent Class\n",
    "\n",
    "Encapsulating the learning mechanisms of the DQN agent, including action selection, model optimization, and interaction with the replay memory, along with managing the exploration rate decay.\n",
    "\n",
    "\n",
    "DOUBLE DQN JUST MODIFY OPTIMIZE_MODEL FUNCTION"
   ]
  },
  {
   "cell_type": "code",
   "execution_count": 6,
   "id": "3c42b8c4",
   "metadata": {},
   "outputs": [],
   "source": [
    "class DQNAgent:\n",
    "    def __init__(self, state_size, action_size):\n",
    "        self.state_size = state_size\n",
    "        self.action_size = action_size\n",
    "        self.epsilon = EPS_START\n",
    "\n",
    "        self.policy_net = DQN(state_size, action_size)\n",
    "        self.target_net = DQN(state_size, action_size)\n",
    "        self.target_net.load_state_dict(self.policy_net.state_dict())\n",
    "        self.target_net.eval()\n",
    "\n",
    "        self.optimizer = optim.Adam(self.policy_net.parameters(), lr=LEARNING_RATE)\n",
    "        self.memory = ReplayMemory(BUFFER_SIZE)\n",
    "\n",
    "    def select_action(self, state):\n",
    "        sample = random.random()\n",
    "        eps_threshold = self.epsilon\n",
    "        if sample > eps_threshold:\n",
    "            with torch.no_grad():\n",
    "                return self.policy_net(state).max(1)[1].view(1, 1)\n",
    "        else:\n",
    "            return torch.tensor([[random.randrange(self.action_size)]], dtype=torch.long)\n",
    "\n",
    "    def optimize_model(self):\n",
    "        if len(self.memory) < BATCH_SIZE:\n",
    "            return\n",
    "\n",
    "        transitions = self.memory.sample(BATCH_SIZE)\n",
    "        batch = Transition(*zip(*transitions))\n",
    "\n",
    "        non_final_mask = torch.tensor(tuple(map(lambda s: s is not None, batch.next_state)), dtype=torch.bool)\n",
    "        non_final_next_states = torch.cat([s for s in batch.next_state if s is not None])\n",
    "        state_batch = torch.cat(batch.state)\n",
    "        action_batch = torch.cat(batch.action)\n",
    "        reward_batch = torch.cat(batch.reward)\n",
    "        done_batch = torch.tensor(batch.done, dtype=torch.float32)\n",
    "\n",
    "        # Get Q values for current states\n",
    "        state_action_values = self.policy_net(state_batch).gather(1, action_batch)\n",
    "\n",
    "        # Double DQN update starts here\n",
    "        # Select best action in next state using the policy network\n",
    "        next_state_actions = self.policy_net(non_final_next_states).max(1)[1].unsqueeze(1)\n",
    "\n",
    "        # Get the Q value of this best action from the target network\n",
    "        next_state_values = torch.zeros(BATCH_SIZE)\n",
    "        next_state_values[non_final_mask] = self.target_net(non_final_next_states).gather(1, next_state_actions).squeeze(1)\n",
    "        # Double DQN update ends here\n",
    "\n",
    "        # Compute the expected Q values\n",
    "        expected_state_action_values = (next_state_values * GAMMA) * (1 - done_batch) + reward_batch\n",
    "\n",
    "        # Compute loss\n",
    "        loss = F.mse_loss(state_action_values, expected_state_action_values.unsqueeze(1))\n",
    "        self.optimizer.zero_grad()\n",
    "        loss.backward()\n",
    "        self.optimizer.step()\n",
    "\n",
    "    def update_target_net(self):\n",
    "        self.target_net.load_state_dict(self.policy_net.state_dict())\n",
    "\n",
    "    def decay_epsilon(self):\n",
    "        self.epsilon = max(EPS_END, EPS_DECAY * self.epsilon)"
   ]
  },
  {
   "cell_type": "markdown",
   "id": "fabd4b58",
   "metadata": {},
   "source": [
    "### Training Loop\n",
    "\n",
    "Runs the LunarLander-v2 environment for a set number of episodes, gathering experiences and optimizing the agent's policy network based on these experiences."
   ]
  },
  {
   "cell_type": "code",
   "execution_count": 7,
   "id": "90422696",
   "metadata": {
    "scrolled": true
   },
   "outputs": [
    {
     "name": "stdout",
     "output_type": "stream",
     "text": [
      "Episode 0, Average Score Last 10 Episodes: -29.422076887046785\n",
      "Episode 10, Average Score Last 10 Episodes: -203.74223226700138\n",
      "Episode 20, Average Score Last 10 Episodes: -205.16274642747726\n",
      "Episode 30, Average Score Last 10 Episodes: -124.35576573157466\n",
      "Episode 40, Average Score Last 10 Episodes: -121.72663841483981\n",
      "Episode 50, Average Score Last 10 Episodes: -71.35358145950097\n",
      "Episode 60, Average Score Last 10 Episodes: -99.10323346189978\n",
      "*****************************************************************************************************************************\n",
      "Solved at episode: 68 - Average score over the last 50 episodes: -98.99678793737522\n",
      "*****************************************************************************************************************************\n",
      "Model successfully saved to models/double_dqn_lunarlander_model.pth\n"
     ]
    }
   ],
   "source": [
    "env = gym.make('LunarLander-v2')\n",
    "state_size = env.observation_space.shape[0]\n",
    "action_size = env.action_space.n\n",
    "agent = DQNAgent(state_size, action_size)\n",
    "\n",
    "scores = []\n",
    "average_scores = []\n",
    "max_steps_per_episode = 2000  # Maximum steps per episode to prevent very long episodes\n",
    "solved_score = 195  # Solved condition threshold\n",
    "solved = False  # Flag to indicate whether the environment is solved\n",
    "\n",
    "# Wrap the episode range with tqdm for the progress bar\n",
    "for i_episode in itertools.count():\n",
    "    state_tuple = env.reset()\n",
    "    state = state_tuple[0] if isinstance(state_tuple, tuple) else state_tuple\n",
    "    state = torch.from_numpy(state).float().unsqueeze(0)\n",
    "    total_reward = 0\n",
    "    done = False\n",
    "    step_count = 0  # Step counter for each episode\n",
    "\n",
    "    while not done and step_count < max_steps_per_episode:\n",
    "        action = agent.select_action(state)\n",
    "        output = env.step(action.item())\n",
    "        next_state = output[0]\n",
    "        reward = output[1]\n",
    "        done = output[2]\n",
    "\n",
    "        next_state = torch.from_numpy(next_state).float().unsqueeze(0)\n",
    "        reward_tensor = torch.tensor([reward], dtype=torch.float)\n",
    "\n",
    "        agent.memory.push(state, action, next_state, reward_tensor, done)\n",
    "        state = next_state\n",
    "        total_reward += reward\n",
    "        agent.optimize_model()\n",
    "\n",
    "        step_count += 1\n",
    "\n",
    "    agent.update_target_net()\n",
    "    agent.decay_epsilon()\n",
    "    scores.append(total_reward)\n",
    "\n",
    "    # Calculate average score of the last 50 episodes\n",
    "    if len(scores) >= 50:\n",
    "        avg_score_last_50 = np.mean(scores[-50:])\n",
    "        average_scores.append(avg_score_last_50)\n",
    "\n",
    "        # Check if the environment is solved\n",
    "        if avg_score_last_50 >= solved_score and not solved:\n",
    "            print(\"*\"*125)\n",
    "            print(f\"Solved at episode: {i_episode} - Average score over the last 50 episodes: {avg_score_last_50}\")\n",
    "            torch.save(agent.policy_net.state_dict(), model_save_path)\n",
    "            print(\"*\"*125)\n",
    "            print(f\"Model successfully saved to {model_save_path}\")\n",
    "            solved = True\n",
    "            break  # Stop training since the environment is considered solved\n",
    "\n",
    "    # Output progress every 10 episodes\n",
    "    if i_episode % 10 == 0:\n",
    "        # Calculate the average of the last 10 episodes\n",
    "        avg_score_last_10 = np.mean(scores[-10:])\n",
    "        print(f\"Episode {i_episode}, Average Score Last 10 Episodes: {avg_score_last_10}\")\n",
    "    \n",
    "    \n",
    "    # Output progress for every episode\n",
    "    #print(f\"Episode {i_episode}, Score: {total_reward}\")\n",
    "\n",
    "# Save the file\n",
    "np.save(folder_path + 'average_scores_double.npy', average_scores)    \n",
    "\n",
    "env.close()"
   ]
  },
  {
   "cell_type": "markdown",
   "id": "f5394c37",
   "metadata": {},
   "source": [
    "### Training Progress Visualization\n",
    "\n",
    "Visualizing the training progress with a plot of the average reward per episode (Y-axis) against the number of episodes (X-axis)."
   ]
  },
  {
   "cell_type": "code",
   "execution_count": 8,
   "id": "393ee6a2",
   "metadata": {},
   "outputs": [
    {
     "data": {
      "image/png": "[encoded data removed]",
      "text/plain": [
       "<Figure size 1200x600 with 1 Axes>"
      ]
     },
     "metadata": {},
     "output_type": "display_data"
    }
   ],
   "source": [
    "# Creating the plot\n",
    "episode_numbers = list(range(10, len(average_scores) * 10 + 1, 10))\n",
    "\n",
    "plt.figure(figsize=(12, 6))\n",
    "plt.plot(episode_numbers, average_scores, label='Average Reward Double DQN', color='red')\n",
    "plt.axhline(y=solved_score, color='green', linestyle='--', label='Solved Threshold (195)')\n",
    "\n",
    "# Set x-axis labels to show every 100 episodes\n",
    "plt.xticks(range(0, len(average_scores) + 1, 100))\n",
    "\n",
    "plt.xlabel('Episodes')\n",
    "plt.ylabel('Average Reward')\n",
    "plt.title('Average Reward per Episode in LunarLander-v2 (Double DQN)')\n",
    "plt.legend()\n",
    "plt.show()"
   ]
  },
  {
   "cell_type": "code",
   "execution_count": null,
   "id": "fad92de4",
   "metadata": {},
   "outputs": [],
   "source": []
  },
  {
   "cell_type": "code",
   "execution_count": 9,
   "id": "c52828fe",
   "metadata": {},
   "outputs": [],
   "source": [
    "## Initialize the environment\n",
    "#env = gym.make('LunarLander-v2', render_mode='rgb_array')\n",
    "#\n",
    "## Wrap the environment with RenderFrame from renderlab to record video\n",
    "#env = renderlab.RenderFrame(env, \"./video\")\n",
    "#\n",
    "## Initialize your DQN agent here\n",
    "#state_size = env.observation_space.shape[0]\n",
    "#action_size = env.action_space.n\n",
    "#agent = DQNAgent(state_size, action_size)\n",
    "#agent.policy_net.load_state_dict(torch.load(model_save_path))\n",
    "#\n",
    "## Reset the environment and get the initial observation\n",
    "#obs, info = env.reset()\n",
    "#\n",
    "#while True:\n",
    "#    # Convert the observation to a tensor and pass it to the agent to select an action\n",
    "#    obs_tensor = torch.from_numpy(obs).float().unsqueeze(0)\n",
    "#    action = agent.select_action(obs_tensor).item()\n",
    "#\n",
    "#    # Take the action in the environment\n",
    "#    obs, reward, terminated, truncated, info = env.step(action)\n",
    "#\n",
    "#    # Check if the episode is done\n",
    "#    if terminated or truncated:\n",
    "#        break\n",
    "#\n",
    "## Play the recorded video\n",
    "#env.play()"
   ]
  }
 ],
 "metadata": {
  "kernelspec": {
   "display_name": "Python 3 (ipykernel)",
   "language": "python",
   "name": "python3"
  },
  "language_info": {
   "codemirror_mode": {
    "name": "ipython",
    "version": 3
   },
   "file_extension": ".py",
   "mimetype": "text/x-python",
   "name": "python",
   "nbconvert_exporter": "python",
   "pygments_lexer": "ipython3",
   "version": "3.9.13"
  }
 },
 "nbformat": 4,
 "nbformat_minor": 5
}
