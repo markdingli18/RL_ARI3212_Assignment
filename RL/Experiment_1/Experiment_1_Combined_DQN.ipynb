{
 "cells": [
  {
   "cell_type": "markdown",
   "id": "12656068",
   "metadata": {},
   "source": [
    "# Combined Deep Q-Network (DQN) for LunarLander-v2\n",
    "\n",
    "This notebook is an implementation of a Combined Deep Q-Network (Double & Noisy) to tackle the \"LunarLander-v2\" environment in OpenAI Gym. The Combined DQN will learn to land a spacecraft safely on the lunar surface. The goal is to achieve an average score of 195 or above over the last 50 episodes."
   ]
  },
  {
   "cell_type": "markdown",
   "id": "b1e4457d",
   "metadata": {},
   "source": [
    "## Import Libraries"
   ]
  },
  {
   "cell_type": "code",
   "execution_count": 1,
   "id": "f22f7730",
   "metadata": {},
   "outputs": [],
   "source": [
    "import gym\n",
    "import torch\n",
    "import torch.nn as nn\n",
    "import torch.nn.functional as F\n",
    "import torch.optim as optim\n",
    "import numpy as np\n",
    "import random\n",
    "from collections import namedtuple, deque\n",
    "import matplotlib.pyplot as plt\n",
    "import os\n",
    "import renderlab\n",
    "import itertools\n",
    "from torch.nn.init import uniform_\n",
    "import math"
   ]
  },
  {
   "cell_type": "markdown",
   "id": "750da756",
   "metadata": {},
   "source": [
    "## Setting Up the Environment\n",
    "\n",
    "Initializing the LunarLander-v2 environment and determining the state and action sizes."
   ]
  },
  {
   "cell_type": "code",
   "execution_count": null,
   "id": "5d7a7e21",
   "metadata": {},
   "outputs": [],
   "source": [
    "# Initialize the Lunar Lander environment\n",
    "env = gym.make('LunarLander-v2')\n",
    "# Get the size of the state space from the environment\n",
    "state_size = env.observation_space.shape[0]  \n",
    "# Get the number of actions available from the environment\n",
    "action_size = env.action_space.n  "
   ]
  },
  {
   "cell_type": "markdown",
   "id": "b5f750d2",
   "metadata": {},
   "source": [
    "## Defining Hyperparameters and Variables"
   ]
  },
  {
   "cell_type": "code",
   "execution_count": 2,
   "id": "f73cf495",
   "metadata": {},
   "outputs": [],
   "source": [
    "# Define the Parameters\n",
    "\n",
    "# Discount factor for future rewards\n",
    "GAMMA = 0.99  \n",
    "# Size of the batch used in learning\n",
    "BATCH_SIZE = 128 \n",
    "# Maximum size of the replay buffer\n",
    "BUFFER_SIZE = 10000  \n",
    "# Starting value of epsilon for the epsilon-greedy policy\n",
    "EPS_START = 1.0 \n",
    "# Minimum value of epsilon for the epsilon-greedy policy\n",
    "EPS_END = 0.01\n",
    "# Decay rate of epsilon per episode\n",
    "EPS_DECAY = 0.995  \n",
    "# Learning rate for the neural network optimizer\n",
    "LEARNING_RATE = 0.0005  \n",
    "\n",
    "# Define the Variables\n",
    "\n",
    "# Threshold score for considering the environment solved\n",
    "solved_score = 195\n",
    "# List to keep track of total reward per episode\n",
    "scores = []  \n",
    "# List to keep track of average score over the last 50 episodes\n",
    "average_scores = []  \n",
    "# Maximum steps per episode to prevent very long episodes\n",
    "max_steps_per_episode = 2000 \n",
    "# Flag to indicate whether the environment is solved\n",
    "solved = False "
   ]
  },
  {
   "cell_type": "markdown",
   "id": "78abb222",
   "metadata": {},
   "source": [
    "## Setting Up Model Saving Paths\n",
    "\n",
    "Defining and preparing the file paths for saving the trained model and average score data. "
   ]
  },
  {
   "cell_type": "code",
   "execution_count": 3,
   "id": "a7584dbd",
   "metadata": {},
   "outputs": [],
   "source": [
    "# Define the path where the trained model will be saved\n",
    "model_save_path = 'models/combined_dqn_lunarlander_model.pth'\n",
    "\n",
    "# Extract the directory path from the model save path\n",
    "model_directory = os.path.dirname(model_save_path)\n",
    "# Check if the directory exists\n",
    "if not os.path.exists(model_directory):\n",
    "    # If the directory does not exist, create it\n",
    "    os.makedirs(model_directory)\n",
    "    \n",
    "# Define the path for saving average score data\n",
    "folder_path = 'average_scores/'\n",
    "\n",
    "# Check if the directory for average scores exists\n",
    "if not os.path.exists(folder_path):\n",
    "    # If the directory does not exist, create it\n",
    "    os.makedirs(folder_path)"
   ]
  },
  {
   "cell_type": "markdown",
   "id": "29f8a4fb",
   "metadata": {},
   "source": [
    "## Defining the NoisyLinear Layer\n",
    "\n",
    "Constructing the `NoisyLinear` class, a variant of the linear layer that introduces randomness into its weights and biases. This class enhances exploration in the Noisy DQN model by adding noise during training, while using deterministic weights during evaluation."
   ]
  },
  {
   "cell_type": "code",
   "execution_count": 4,
   "id": "f739ab02",
   "metadata": {},
   "outputs": [],
   "source": [
    "class NoisyLinear(nn.Module):\n",
    "    def __init__(self, in_size, out_size):\n",
    "        super(NoisyLinear, self).__init__()\n",
    "\n",
    "        # Initialize the mean (mu) and standard deviation (sigma) for the weights\n",
    "        self.w_mu = nn.Parameter(torch.empty((out_size, in_size)))\n",
    "        self.w_sigma = nn.Parameter(torch.empty((out_size, in_size)))\n",
    "\n",
    "        # Initialize the mean (mu) and standard deviation (sigma) for the biases\n",
    "        self.b_mu = nn.Parameter(torch.empty((out_size)))\n",
    "        self.b_sigma = nn.Parameter(torch.empty((out_size)))\n",
    "\n",
    "        # Uniformly initialize the mean parameters\n",
    "        uniform_(self.w_mu, -math.sqrt(3 / in_size), math.sqrt(3 / in_size))\n",
    "        uniform_(self.b_mu, -math.sqrt(3 / in_size), math.sqrt(3 / in_size))\n",
    "\n",
    "        # Initialize the sigma parameters with a constant value\n",
    "        nn.init.constant_(self.w_sigma, 0.017)\n",
    "        nn.init.constant_(self.b_sigma, 0.017)\n",
    "\n",
    "    def forward(self, x, sigma=1):\n",
    "        # During training, add noise to the weights and biases\n",
    "        if self.training:\n",
    "            # Generate random noise for weights and biases\n",
    "            w_noise = torch.normal(0, sigma, size=self.w_mu.size())\n",
    "            b_noise = torch.normal(0, sigma, size=self.b_mu.size())\n",
    "\n",
    "            # Apply noisy linear transformation\n",
    "            return F.linear(x, self.w_mu + self.w_sigma * w_noise, self.b_mu + self.b_sigma * b_noise)\n",
    "        else:\n",
    "            # During evaluation, use the mean values without noise\n",
    "            return F.linear(x, self.w_mu, self.b_mu)"
   ]
  },
  {
   "cell_type": "markdown",
   "id": "bc4c4e20",
   "metadata": {},
   "source": [
    "## Defining the Combined DQN Model\n",
    "\n",
    "Defining the neural network architecture for the Combined DQN agent"
   ]
  },
  {
   "cell_type": "code",
   "execution_count": 5,
   "id": "22e7a63b",
   "metadata": {},
   "outputs": [],
   "source": [
    "# Combined DQN Model\n",
    "class COMBINED_DQN(nn.Module):\n",
    "    # The constructor of the COMBINED_DQN class, inheriting from nn.Module\n",
    "    def __init__(self, state_size, action_size):\n",
    "        super(COMBINED_DQN, self).__init__()\n",
    "        # Initialize the first fully connected layer with noise\n",
    "        self.fc1 = NoisyLinear(state_size, 64)\n",
    "        # Initialize the second fully connected layer with noise\n",
    "        self.fc2 = NoisyLinear(64, 64)\n",
    "        # Initialize the third fully connected layer with noise\n",
    "        # This layer outputs Q-values for each action\n",
    "        self.fc3 = NoisyLinear(64, action_size)\n",
    "\n",
    "    def forward(self, x):\n",
    "        # Pass input through the first noisy linear layer and apply ReLU activation\n",
    "        x = F.relu(self.fc1(x))\n",
    "        # Pass through the second noisy linear layer and apply ReLU activation\n",
    "        x = F.relu(self.fc2(x))\n",
    "        # Pass through the final noisy linear layer to get Q-values for each action\n",
    "        return self.fc3(x)"
   ]
  },
  {
   "cell_type": "markdown",
   "id": "3fd6706e",
   "metadata": {},
   "source": [
    "## Implementing Replay Memory\n",
    "\n",
    "Implementing a replay buffer to store and sample experiences for training the Combined DQN agent."
   ]
  },
  {
   "cell_type": "code",
   "execution_count": 6,
   "id": "1ed327e5",
   "metadata": {},
   "outputs": [],
   "source": [
    "# Define a namedtuple to store the experience tuples\n",
    "Transition = namedtuple('Transition', ('state', 'action', 'next_state', 'reward', 'done'))\n",
    "\n",
    "class ReplayMemory:\n",
    "    # Constructor for ReplayMemory class\n",
    "    def __init__(self, capacity):\n",
    "        # Initialize a double-ended queue with a fixed maximum size (capacity)\n",
    "        # This deque will store the transitions\n",
    "        self.memory = deque([], maxlen=capacity)\n",
    "\n",
    "    # Method to push a new transition into the memory\n",
    "    def push(self, *args):\n",
    "        self.memory.append(Transition(*args))\n",
    "\n",
    "    # Method to randomly sample a batch of transitions from the memory\n",
    "    def sample(self, batch_size):\n",
    "        return random.sample(self.memory, batch_size)\n",
    "\n",
    "    # Method to return the length of the memory\n",
    "    def __len__(self):\n",
    "        return len(self.memory)"
   ]
  },
  {
   "cell_type": "markdown",
   "id": "3a5491ab",
   "metadata": {},
   "source": [
    "## Creating the Combined DQN Agent (Double & Noisy)\n",
    "\n",
    "Creating a class for the Combined DQN agent encapsulating action selection, model updates, and interaction with replay memory."
   ]
  },
  {
   "cell_type": "code",
   "execution_count": 7,
   "id": "3c42b8c4",
   "metadata": {},
   "outputs": [],
   "source": [
    "# DQN Agent with Combined Double DQN and Noisy DQN Features\n",
    "class Combined_DQNAgent:\n",
    "    # Constructor for initializing the agent\n",
    "    def __init__(self, state_size, action_size):\n",
    "        # Store state and action dimensions\n",
    "        self.state_size = state_size\n",
    "        self.action_size = action_size\n",
    "        # Initialize epsilon for epsilon-greedy action selection\n",
    "        self.epsilon = EPS_START\n",
    "\n",
    "        # Initialize policy network with combined DQN architecture\n",
    "        self.policy_net = COMBINED_DQN(state_size, action_size)\n",
    "        # Initialize target network (for stable Q-targets) with same architecture\n",
    "        self.target_net = COMBINED_DQN(state_size, action_size)\n",
    "        # Copy weights from policy network to target network\n",
    "        self.target_net.load_state_dict(self.policy_net.state_dict())\n",
    "        # Set target network to evaluation mode (no training)\n",
    "        self.target_net.eval()\n",
    "\n",
    "        # Optimizer for policy network\n",
    "        self.optimizer = optim.Adam(self.policy_net.parameters(), lr=LEARNING_RATE)\n",
    "        # Replay memory for storing experiences\n",
    "        self.memory = ReplayMemory(BUFFER_SIZE)\n",
    "\n",
    "    # Method to select an action based on current state\n",
    "    def select_action(self, state):\n",
    "        # Epsilon-greedy action selection\n",
    "        if random.random() > self.epsilon:\n",
    "            # Choose the best action from policy network (exploitation)\n",
    "            with torch.no_grad():\n",
    "                return self.policy_net(state).max(1)[1].view(1, 1)\n",
    "        else:\n",
    "            # Choose a random action (exploration)\n",
    "            return torch.tensor([[random.randrange(self.action_size)]], dtype=torch.long)\n",
    "\n",
    "    # Method to optimize the model\n",
    "    def optimize_model(self):\n",
    "        # Return if not enough samples in the memory\n",
    "        if len(self.memory) < BATCH_SIZE:\n",
    "            return\n",
    "\n",
    "        # Sample a batch of transitions from memory\n",
    "        transitions = self.memory.sample(BATCH_SIZE)\n",
    "        batch = Transition(*zip(*transitions))\n",
    "\n",
    "        # Separate non-final and final next states\n",
    "        non_final_mask = torch.tensor(tuple(map(lambda s: s is not None, batch.next_state)), dtype=torch.bool)\n",
    "        non_final_next_states = torch.cat([s for s in batch.next_state if s is not None])\n",
    "        state_batch = torch.cat(batch.state)\n",
    "        action_batch = torch.cat(batch.action)\n",
    "        reward_batch = torch.cat(batch.reward)\n",
    "        done_batch = torch.tensor(batch.done, dtype=torch.float32)\n",
    "\n",
    "        # Compute current Q values using policy network\n",
    "        state_action_values = self.policy_net(state_batch).gather(1, action_batch)\n",
    "\n",
    "        # Double DQN logic for stable Q targets\n",
    "        next_state_actions = self.policy_net(non_final_next_states).max(1)[1].unsqueeze(1)\n",
    "        next_state_values = torch.zeros(BATCH_SIZE)\n",
    "        next_state_values[non_final_mask] = self.target_net(non_final_next_states).gather(1, next_state_actions).squeeze(1)\n",
    "        \n",
    "        # Compute expected Q values using target Q values and immediate rewards\n",
    "        expected_state_action_values = (next_state_values * GAMMA) * (1 - done_batch) + reward_batch\n",
    "\n",
    "        # Compute loss and perform backpropagation\n",
    "        loss = F.mse_loss(state_action_values, expected_state_action_values.unsqueeze(1))\n",
    "        self.optimizer.zero_grad()\n",
    "        loss.backward()\n",
    "        self.optimizer.step()\n",
    "\n",
    "    # Method to update target network weights\n",
    "    def update_target_net(self):\n",
    "        # Copy weights from policy network to target network\n",
    "        self.target_net.load_state_dict(self.policy_net.state_dict())\n",
    "\n",
    "    # Method to decay epsilon for epsilon-greedy strategy\n",
    "    def decay_epsilon(self):\n",
    "        # Reduce epsilon value, but not below minimum threshold\n",
    "        self.epsilon = max(EPS_END, EPS_DECAY * self.epsilon)\n",
    "        \n",
    "\n",
    "# Instantiate a the Combined DQN agent with state and action sizes\n",
    "agent = Combined_DQNAgent(state_size, action_size)"
   ]
  },
  {
   "cell_type": "markdown",
   "id": "fabd4b58",
   "metadata": {},
   "source": [
    "## The Training Loop\n",
    "\n",
    "Running the training process for the agent, including interacting with the environment, optimizing the model, and tracking progress."
   ]
  },
  {
   "cell_type": "code",
   "execution_count": 8,
   "id": "90422696",
   "metadata": {
    "scrolled": true
   },
   "outputs": [
    {
     "name": "stdout",
     "output_type": "stream",
     "text": [
      "Episode 0, Average Score Last 10 Episodes: 3.817904720304753\n",
      "Episode 10, Average Score Last 10 Episodes: -153.62970182929402\n",
      "Episode 20, Average Score Last 10 Episodes: -149.5108071028464\n",
      "Episode 30, Average Score Last 10 Episodes: -163.7208676229824\n",
      "Episode 40, Average Score Last 10 Episodes: -143.2499634963047\n",
      "*****************************************************************************************************************************\n",
      "Solved at episode: 49 - Average score over the last 50 episodes: -139.66570571293153\n",
      "*****************************************************************************************************************************\n",
      "Model successfully saved to models/combined_dqn_lunarlander_model.pth\n"
     ]
    }
   ],
   "source": [
    "# Initialize the Lunar Lander environment\n",
    "env = gym.make('LunarLander-v2')\n",
    "# Get the size of the state space from the environment\n",
    "state_size = env.observation_space.shape[0]  \n",
    "# Get the number of actions available from the environment\n",
    "action_size = env.action_space.n  \n",
    "\n",
    "# Instantiate a Noisy DQN agent with state and action sizes\n",
    "agent = Combined_DQNAgent(state_size, action_size)\n",
    "\n",
    "# Wrap the episode range with tqdm for the progress bar\n",
    "for i_episode in itertools.count():\n",
    "    state_tuple = env.reset()\n",
    "    state = state_tuple[0] if isinstance(state_tuple, tuple) else state_tuple\n",
    "    state = torch.from_numpy(state).float().unsqueeze(0)\n",
    "    total_reward = 0\n",
    "    done = False\n",
    "    step_count = 0  # Step counter for each episode\n",
    "\n",
    "    while not done and step_count < max_steps_per_episode:\n",
    "        action = agent.select_action(state)\n",
    "        output = env.step(action.item())\n",
    "        next_state = output[0]\n",
    "        reward = output[1]\n",
    "        done = output[2]\n",
    "\n",
    "        next_state = torch.from_numpy(next_state).float().unsqueeze(0)\n",
    "        reward_tensor = torch.tensor([reward], dtype=torch.float)\n",
    "\n",
    "        agent.memory.push(state, action, next_state, reward_tensor, done)\n",
    "        state = next_state\n",
    "        total_reward += reward\n",
    "        agent.optimize_model()\n",
    "\n",
    "        step_count += 1\n",
    "\n",
    "    agent.update_target_net()\n",
    "    agent.decay_epsilon()\n",
    "    scores.append(total_reward)\n",
    "\n",
    "    # Calculate average score of the last 50 episodes\n",
    "    if len(scores) >= 50:\n",
    "        avg_score_last_50 = np.mean(scores[-50:])\n",
    "        average_scores.append(avg_score_last_50)\n",
    "\n",
    "        # Check if the environment is solved\n",
    "        if avg_score_last_50 >= solved_score and not solved:\n",
    "            print(\"*\"*125)\n",
    "            print(f\"Solved at episode: {i_episode} - Average score over the last 50 episodes: {avg_score_last_50}\")\n",
    "            torch.save(agent.policy_net.state_dict(), model_save_path)\n",
    "            print(\"*\"*125)\n",
    "            print(f\"Model successfully saved to {model_save_path}\")\n",
    "            solved = True\n",
    "            break  # Stop training since the environment is considered solved\n",
    "\n",
    "    # Output progress every 10 episodes\n",
    "    if i_episode % 10 == 0:\n",
    "        # Calculate the average of the last 10 episodes\n",
    "        avg_score_last_10 = np.mean(scores[-10:])\n",
    "        print(f\"Episode {i_episode}, Average Score Last 10 Episodes: {avg_score_last_10}\")\n",
    "    \n",
    "# Save the file\n",
    "np.save(folder_path + 'average_scores_combined.npy', average_scores)  \n",
    "\n",
    "env.close()"
   ]
  },
  {
   "cell_type": "markdown",
   "id": "f5394c37",
   "metadata": {},
   "source": [
    "## Training Progress Visualization\n",
    "\n",
    "Visualizing the training progress with a plot of the average reward per episode (Y-axis) against the number of episodes (X-axis)."
   ]
  },
  {
   "cell_type": "code",
   "execution_count": 9,
   "id": "393ee6a2",
   "metadata": {},
   "outputs": [
    {
     "data": {
      "image/png": "[encoded data removed]",
      "text/plain": [
       "<Figure size 1200x600 with 1 Axes>"
      ]
     },
     "metadata": {},
     "output_type": "display_data"
    }
   ],
   "source": [
    "# Creating the plot\n",
    "\n",
    "# Generate a range of episode numbers for the x-axis\n",
    "# Start from episode 10 and increment by 10 until the number of episodes recorded\n",
    "episode_numbers = list(range(10, len(average_scores) * 10 + 1, 10))\n",
    "\n",
    "plt.figure(figsize=(12, 6))\n",
    "\n",
    "# Plot average rewards per episode\n",
    "plt.plot(episode_numbers, average_scores, label='Average Reward Combined DQN', color='Pink')\n",
    "\n",
    "# Add a horizontal line representing the solved threshold\n",
    "plt.axhline(y=solved_score, color='green', linestyle='--', label='Solved Threshold (195)')\n",
    "\n",
    "# Set x-axis labels to show every 100 episodes\n",
    "plt.xticks(range(0, len(average_scores) + 1, 100))\n",
    "\n",
    "# Set labels for x and y axes\n",
    "plt.xlabel('Episodes')\n",
    "plt.ylabel('Average Reward')\n",
    "\n",
    "# Display the plot\n",
    "plt.title('Average Reward per Episode in LunarLander-v2 (Combined DQN)')\n",
    "plt.legend()\n",
    "plt.show()"
   ]
  }
 ],
 "metadata": {
  "kernelspec": {
   "display_name": "Python 3 (ipykernel)",
   "language": "python",
   "name": "python3"
  },
  "language_info": {
   "codemirror_mode": {
    "name": "ipython",
    "version": 3
   },
   "file_extension": ".py",
   "mimetype": "text/x-python",
   "name": "python",
   "nbconvert_exporter": "python",
   "pygments_lexer": "ipython3",
   "version": "3.9.13"
  }
 },
 "nbformat": 4,
 "nbformat_minor": 5
}
