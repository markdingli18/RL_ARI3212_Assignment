{
 "cells": [
  {
   "cell_type": "code",
   "execution_count": null,
   "id": "7884d262",
   "metadata": {},
   "outputs": [],
   "source": [
    "# Calculate the current Q values\n",
    "state_action_values = self.policy_net(state_batch).gather(1, action_batch)\n",
    "\n",
    "# Calculate expected Q values\n",
    "expected_state_action_values = (next_state_values * GAMMA) * (1 - done_batch) + reward_batch\n",
    "\n",
    "# Calculate loss using Mean Squared Error between current and expected Q values\n",
    "loss = F.mse_loss(state_action_values, expected_state_action_values.unsqueeze(1))"
   ]
  }
 ],
 "metadata": {
  "kernelspec": {
   "display_name": "Python 3 (ipykernel)",
   "language": "python",
   "name": "python3"
  },
  "language_info": {
   "codemirror_mode": {
    "name": "ipython",
    "version": 3
   },
   "file_extension": ".py",
   "mimetype": "text/x-python",
   "name": "python",
   "nbconvert_exporter": "python",
   "pygments_lexer": "ipython3",
   "version": "3.9.13"
  }
 },
 "nbformat": 4,
 "nbformat_minor": 5
}
