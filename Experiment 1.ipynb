{
 "cells": [
  {
   "cell_type": "markdown",
   "id": "4aabf6cd",
   "metadata": {},
   "source": [
    "# Experiment 1: Solving LunarLander-v2 using Standard DQN\n",
    "\n",
    "Iplementing a Standard DQN to solve the LunarLander-v2 environment from OpenAI Gym. This involves creating a neural network to approximate the Q-function, implementing an experience replay buffer, and using an ε-greedy strategy for exploration."
   ]
  },
  {
   "cell_type": "markdown",
   "id": "223b5c1a",
   "metadata": {},
   "source": [
    "### 1. Imports"
   ]
  },
  {
   "cell_type": "code",
   "execution_count": 1,
   "id": "77417bf4",
   "metadata": {},
   "outputs": [],
   "source": [
    "import gym\n",
    "\n",
    "# Initialize the LunarLander environment with visualization\n",
    "env = gym.make('LunarLander-v2', render_mode='human')\n",
    "\n",
    "# Reset the environment to get the initial state\n",
    "observation, info = env.reset()\n",
    "\n",
    "import numpy as np\n",
    "import random\n",
    "from collections import deque\n",
    "import torch\n",
    "import torch.nn as nn\n",
    "import torch.optim as optim\n",
    "import torch.nn.functional as F"
   ]
  },
  {
   "cell_type": "markdown",
   "id": "d19bbeae",
   "metadata": {},
   "source": [
    "### Define the DQN Network\n",
    "The DQN will be a simple fully connected neural network that takes the state as input and outputs Q-values for each possible action."
   ]
  },
  {
   "cell_type": "code",
   "execution_count": 2,
   "id": "28772518",
   "metadata": {},
   "outputs": [],
   "source": [
    "class DQN(nn.Module):\n",
    "    def __init__(self, state_size, action_size, hidden_size=64):\n",
    "        super(DQN, self).__init__()\n",
    "        self.fc1 = nn.Linear(state_size, hidden_size)\n",
    "        self.fc2 = nn.Linear(hidden_size, hidden_size)\n",
    "        self.fc3 = nn.Linear(hidden_size, action_size)\n",
    "\n",
    "    def forward(self, x):\n",
    "        x = F.relu(self.fc1(x))\n",
    "        x = F.relu(self.fc2(x))\n",
    "        return self.fc3(x)"
   ]
  },
  {
   "cell_type": "markdown",
   "id": "3f5c1fce",
   "metadata": {},
   "source": [
    "### Experience Replay Buffer\n",
    "A replay buffer to store and sample experiences, which helps in stabilizing the training."
   ]
  },
  {
   "cell_type": "code",
   "execution_count": 3,
   "id": "40940526",
   "metadata": {},
   "outputs": [],
   "source": [
    "class ReplayBuffer:\n",
    "    def __init__(self, buffer_size, batch_size):\n",
    "        self.buffer = deque(maxlen=buffer_size)\n",
    "        self.batch_size = batch_size\n",
    "\n",
    "    def add(self, state, action, reward, next_state, done):\n",
    "        self.buffer.append((state, action, reward, next_state, done))\n",
    "\n",
    "    def sample(self):\n",
    "        experiences = random.sample(self.buffer, self.batch_size)\n",
    "        states, actions, rewards, next_states, dones = zip(*experiences)\n",
    "        return (torch.tensor(states, dtype=torch.float32), torch.tensor(actions), \n",
    "                torch.tensor(rewards, dtype=torch.float32), torch.tensor(next_states, dtype=torch.float32), \n",
    "                torch.tensor(dones, dtype=torch.float32))"
   ]
  },
  {
   "cell_type": "markdown",
   "id": "db36aceb",
   "metadata": {},
   "source": [
    "### Setup Environment and Hyperparameters\n",
    "Setting up the LunarLander environment and defining hyperparameters for training."
   ]
  },
  {
   "cell_type": "code",
   "execution_count": 4,
   "id": "4ffc8c09",
   "metadata": {},
   "outputs": [],
   "source": [
    "# Environment setup\n",
    "env = gym.make('LunarLander-v2')\n",
    "state_size = env.observation_space.shape[0]\n",
    "action_size = env.action_space.n\n",
    "\n",
    "# Hyperparameters\n",
    "BUFFER_SIZE = int(1e5)\n",
    "BATCH_SIZE = 64\n",
    "GAMMA = 0.99\n",
    "LR = 1e-3\n",
    "EPSILON_START = 1.0\n",
    "EPSILON_END = 0.01\n",
    "EPSILON_DECAY = 0.995\n",
    "TARGET_UPDATE = 10"
   ]
  },
  {
   "cell_type": "markdown",
   "id": "4fe12e45",
   "metadata": {},
   "source": [
    "### Training Loop\n",
    "Here, we define the training loop, where the agent interacts with the environment, and the network is updated using experiences from the replay buffer."
   ]
  },
  {
   "cell_type": "code",
   "execution_count": 5,
   "id": "b5a1bb6d",
   "metadata": {},
   "outputs": [
    {
     "name": "stdout",
     "output_type": "stream",
     "text": [
      "Step output: (array([ 0.0122797 ,  1.4014208 ,  0.61451036, -0.20625067, -0.01496093,\n",
      "       -0.15537882,  0.        ,  0.        ], dtype=float32), 1.098086014583157, False, False, {})\n",
      "Error unpacking: too many values to unpack (expected 4)\n",
      "Episode: 0, Total Reward: 0\n"
     ]
    },
    {
     "ename": "NameError",
     "evalue": "name 'target_net' is not defined",
     "output_type": "error",
     "traceback": [
      "\u001b[1;31m---------------------------------------------------------------------------\u001b[0m",
      "\u001b[1;31mNameError\u001b[0m                                 Traceback (most recent call last)",
      "\u001b[1;32m~\\AppData\\Local\\Temp\\ipykernel_7048\\133604659.py\u001b[0m in \u001b[0;36m<module>\u001b[1;34m\u001b[0m\n\u001b[0;32m     60\u001b[0m     \u001b[1;31m# Update target network\u001b[0m\u001b[1;33m\u001b[0m\u001b[1;33m\u001b[0m\u001b[0m\n\u001b[0;32m     61\u001b[0m     \u001b[1;32mif\u001b[0m \u001b[0mepisode\u001b[0m \u001b[1;33m%\u001b[0m \u001b[0mTARGET_UPDATE\u001b[0m \u001b[1;33m==\u001b[0m \u001b[1;36m0\u001b[0m\u001b[1;33m:\u001b[0m\u001b[1;33m\u001b[0m\u001b[1;33m\u001b[0m\u001b[0m\n\u001b[1;32m---> 62\u001b[1;33m         \u001b[0mtarget_net\u001b[0m\u001b[1;33m.\u001b[0m\u001b[0mload_state_dict\u001b[0m\u001b[1;33m(\u001b[0m\u001b[0mpolicy_net\u001b[0m\u001b[1;33m.\u001b[0m\u001b[0mstate_dict\u001b[0m\u001b[1;33m(\u001b[0m\u001b[1;33m)\u001b[0m\u001b[1;33m)\u001b[0m\u001b[1;33m\u001b[0m\u001b[1;33m\u001b[0m\u001b[0m\n\u001b[0m",
      "\u001b[1;31mNameError\u001b[0m: name 'target_net' is not defined"
     ]
    }
   ],
   "source": [
    "# Initialize replay buffer, network, optimizer\n",
    "buffer = ReplayBuffer(BUFFER_SIZE, BATCH_SIZE)\n",
    "policy_net = DQN(state_size, action_size)\n",
    "optimizer = optim.Adam(policy_net.parameters(), lr=LR)\n",
    "epsilon = EPSILON_START\n",
    "\n",
    "# Training loop\n",
    "num_episodes = 2000\n",
    "for episode in range(num_episodes):\n",
    "    state = env.reset()\n",
    "    total_reward = 0\n",
    "    done = False\n",
    "    while not done:\n",
    "        # Epsilon-greedy action selection\n",
    "        if random.random() > epsilon:\n",
    "            with torch.no_grad():\n",
    "                action = policy_net(torch.tensor(state, dtype=torch.float32)).max(0)[1].item()\n",
    "        else:\n",
    "            action = env.action_space.sample()\n",
    "\n",
    "        # Take action and inspect the output\n",
    "        step_output = env.step(action)\n",
    "        print(f\"Step output: {step_output}\")\n",
    "\n",
    "        # Check if the output can be unpacked into four variables\n",
    "        try:\n",
    "            next_state, reward, done, _ = step_output\n",
    "        except ValueError as e:\n",
    "            print(f\"Error unpacking: {e}\")\n",
    "            break\n",
    "\n",
    "        buffer.add(state, action, reward, next_state, done)\n",
    "        state = next_state\n",
    "        total_reward += reward\n",
    "\n",
    "        # Train the network if enough samples are available\n",
    "        if len(buffer.buffer) > BATCH_SIZE:\n",
    "            experiences = buffer.sample()\n",
    "            states, actions, rewards, next_states, dones = experiences\n",
    "\n",
    "            # Compute Q targets\n",
    "            Q_targets_next = policy_net(next_states).detach().max(1)[0].unsqueeze(1)\n",
    "            Q_targets = rewards + (GAMMA * Q_targets_next * (1 - dones))\n",
    "\n",
    "            # Get expected Q values\n",
    "            Q_expected = policy_net(states).gather(1, actions.unsqueeze(1))\n",
    "\n",
    "            # Compute loss and update the network\n",
    "            loss = F.mse_loss(Q_expected, Q_targets)\n",
    "            optimizer.zero_grad()\n",
    "            loss.backward()\n",
    "            optimizer.step()\n",
    "\n",
    "        # Update epsilon\n",
    "        epsilon = max(EPSILON_END, EPSILON_DECAY * epsilon)\n",
    "\n",
    "    # Print episode results\n",
    "    print(f\"Episode: {episode}, Total Reward: {total_reward}\")\n",
    "\n",
    "    # Update target network\n",
    "    if episode % TARGET_UPDATE == 0:\n",
    "        target_net.load_state_dict(policy_net.state_dict())"
   ]
  },
  {
   "cell_type": "markdown",
   "id": "0c040f68",
   "metadata": {},
   "source": [
    "### Evaluation\n",
    "After training, evaluate the performance of the agent without exploration."
   ]
  },
  {
   "cell_type": "code",
   "execution_count": null,
   "id": "cdc41370",
   "metadata": {},
   "outputs": [],
   "source": [
    "# Evaluation\n",
    "num_test_episodes = 100\n",
    "total_rewards = []\n",
    "for episode in range(num_test_episodes):\n",
    "    state = env.reset()\n",
    "    total_reward = 0\n",
    "    done = False\n",
    "    while not done:\n",
    "        action = policy_net(torch.tensor(state, dtype=torch.float32)).max(0)[1].item()\n",
    "        state, reward, done, _ = env.step(action)\n",
    "        total_reward += reward\n",
    "    total_rewards.append(total_reward)\n",
    "\n",
    "average_reward = sum(total_rewards) / len(total_rewards)\n",
    "print(f\"Average Reward over {num_test_episodes} episodes: {average_reward}\")"
   ]
  }
 ],
 "metadata": {
  "kernelspec": {
   "display_name": "Python 3 (ipykernel)",
   "language": "python",
   "name": "python3"
  },
  "language_info": {
   "codemirror_mode": {
    "name": "ipython",
    "version": 3
   },
   "file_extension": ".py",
   "mimetype": "text/x-python",
   "name": "python",
   "nbconvert_exporter": "python",
   "pygments_lexer": "ipython3",
   "version": "3.9.13"
  }
 },
 "nbformat": 4,
 "nbformat_minor": 5
}
